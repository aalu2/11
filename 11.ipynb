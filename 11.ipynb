{
  "nbformat": 4,
  "nbformat_minor": 0,
  "metadata": {
    "colab": {
      "provenance": []
    },
    "kernelspec": {
      "name": "python3",
      "display_name": "Python 3"
    },
    "language_info": {
      "name": "python"
    }
  },
  "cells": [
    {
      "cell_type": "code",
      "source": [
        "#Answer of 1\n",
        "class Node:\n",
        "    def __init__(self, data):\n",
        "        self.data = data\n",
        "        self.next = None\n",
        "\n",
        "class CircularLinkedList:\n",
        "    def __init__(self):\n",
        "        self.head = None\n",
        "\n",
        "    def push(self, data):\n",
        "        new_node = Node(data)\n",
        "        temp = self.head\n",
        "\n",
        "        new_node.next = self.head\n",
        "\n",
        "        if self.head is not None:\n",
        "            while(temp.next != self.head):\n",
        "                temp = temp.next\n",
        "            temp.next = new_node\n",
        "        else:\n",
        "            new_node.next = new_node\n",
        "            self.head = new_node\n",
        "\n",
        "    def printList(self):\n",
        "        temp = self.head\n",
        "        if self.head is not None:\n",
        "            while(True):\n",
        "                print(temp.data)\n",
        "                temp = temp.next\n",
        "                if (temp == self.head):\n",
        "                    break\n",
        "\n",
        "def safe_nests(n):\n",
        "    nests = [i for i in range(1, 11)]\n",
        "    skip_count = 0\n",
        "    index = 0\n",
        "    \n",
        "    for _ in range(n):\n",
        "        index = (index + skip_count) % len(nests)\n",
        "        checked_nest = nests.pop(index)\n",
        "        skip_count += 1\n",
        "        \n",
        "    return nests\n",
        "\n",
        "print(safe_nests(1))"
      ],
      "metadata": {
        "colab": {
          "base_uri": "https://localhost:8080/"
        },
        "id": "BhlDTL8o2HcE",
        "outputId": "398decb3-a097-4f0f-c80b-6bf4278b96e6"
      },
      "execution_count": 20,
      "outputs": [
        {
          "output_type": "stream",
          "name": "stdout",
          "text": [
            "[2, 3, 4, 5, 6, 7, 8, 9, 10]\n"
          ]
        }
      ]
    },
    {
      "cell_type": "code",
      "source": [
        "\n",
        "#Answer of 2\n",
        "class Node:\n",
        "    def __init__(self, val):\n",
        "        self.val = val\n",
        "        self.next = None\n",
        "\n",
        "def create_circular_list(values):\n",
        "    head = Node(values[0])\n",
        "    cur = head\n",
        "    for val in values[1:]:\n",
        "        new_node = Node(val)\n",
        "        cur.next = new_node\n",
        "        cur = new_node\n",
        "    cur.next = head  #make it circular\n",
        "    return head\n",
        "\n",
        "def add_node_to_circular_list(head, val):\n",
        "    if not head:\n",
        "        head = Node(val)\n",
        "        head.next = head\n",
        "        return head\n",
        "    cur = head\n",
        "    while cur.next != head:\n",
        "        cur = cur.next\n",
        "    new_node = Node(val)\n",
        "    cur.next = new_node\n",
        "    new_node.next = head\n",
        "    return head\n",
        "\n",
        "def get_common_values(l, m):\n",
        "    new_head = None\n",
        "    cur_l = l\n",
        "    cur_m = m\n",
        "    prev_val = None\n",
        "    while True:\n",
        "        if cur_l.val == cur_m.val:\n",
        "            if cur_l.val != prev_val:\n",
        "                new_head = add_node_to_circular_list(new_head, cur_l.val)\n",
        "            prev_val = cur_l.val\n",
        "            cur_l = cur_l.next\n",
        "            cur_m = cur_m.next\n",
        "        elif cur_l.val < cur_m.val:\n",
        "            cur_l = cur_l.next\n",
        "        else:\n",
        "            cur_m = cur_m.next\n",
        "        if cur_l == l or cur_m == m:  #one full cycle completed\n",
        "            break\n",
        "    return new_head\n",
        "\n",
        "def print_circular_list(head):\n",
        "    if not head:\n",
        "        return\n",
        "    cur = head\n",
        "    while True:\n",
        "        print(cur.val, end='')\n",
        "        cur = cur.next\n",
        "        if cur == head:\n",
        "            break\n",
        "    print()\n",
        "\n",
        "#main program\n",
        "l_values = [\"A\", \"A\", \"B\", \"C\", \"D\", \"F\", \"G\", \"H\", \"J\", \"K\"]\n",
        "m_values = [\"A\", \"B\", \"B\", \"C\", \"E\", \"F\", \"G\", \"I\", \"K\"]\n",
        "l = create_circular_list(l_values)\n",
        "m = create_circular_list(m_values)\n",
        "common = get_common_values(l, m)\n",
        "print_circular_list(common)"
      ],
      "metadata": {
        "colab": {
          "base_uri": "https://localhost:8080/"
        },
        "id": "lkcRM1LTin9w",
        "outputId": "fae3763b-734e-4f60-ceed-b9dc72025934"
      },
      "execution_count": 2,
      "outputs": [
        {
          "output_type": "stream",
          "name": "stdout",
          "text": [
            "ABCFGK\n"
          ]
        }
      ]
    },
    {
      "cell_type": "code",
      "source": [
        "\n",
        "#Answer of 3\n",
        "class Node:\n",
        "    def __init__(self, val):\n",
        "        self.val = val\n",
        "        self.next = None\n",
        "\n",
        "def create_circular_list(values):\n",
        "    head = Node(values[0])\n",
        "    cur = head\n",
        "    for val in values[1:]:\n",
        "        new_node = Node(val)\n",
        "        cur.next = new_node\n",
        "        cur = new_node\n",
        "    cur.next = head  #make it circular\n",
        "    return head\n",
        "\n",
        "def is_prime(n):\n",
        "    if n < 2:\n",
        "        return False\n",
        "    for i in range(2, int(n ** 0.5) + 1):\n",
        "        if n % i == 0:\n",
        "            return False\n",
        "    return True\n",
        "\n",
        "def delete_prime_CLL(head):\n",
        "    if not head:\n",
        "        return None\n",
        "    cur = head\n",
        "    prev = None\n",
        "    tail = None\n",
        "    while True:\n",
        "        if is_prime(cur.val):\n",
        "            if cur == head:  #special case where all nodes are prime\n",
        "                tail = head\n",
        "                while tail.next != head:\n",
        "                    tail = tail.next\n",
        "                head = cur.next\n",
        "                tail.next = head\n",
        "                cur = head\n",
        "                prev = None\n",
        "            else:\n",
        "                prev.next = cur.next\n",
        "                cur = cur.next\n",
        "        else:\n",
        "            prev = cur\n",
        "            cur = cur.next\n",
        "        if cur == head:  #one full cycle completed\n",
        "            break\n",
        "    return head\n",
        "\n",
        "def print_circular_list(head):\n",
        "    if not head:\n",
        "        return\n",
        "    cur = head\n",
        "    while True:\n",
        "        print(cur.val, end=' ')\n",
        "        cur = cur.next\n",
        "        if cur == head:\n",
        "            break\n",
        "    print()\n",
        "\n",
        "#main program\n",
        "values = [13, 12, 15, 14]\n",
        "cll = create_circular_list(values)\n",
        "cll = delete_prime_CLL(cll)\n",
        "print_circular_list(cll)\n"
      ],
      "metadata": {
        "colab": {
          "base_uri": "https://localhost:8080/"
        },
        "id": "cbmXImrOiwHp",
        "outputId": "dab85211-2802-41fb-c67f-9ca0a67d75a9"
      },
      "execution_count": 3,
      "outputs": [
        {
          "output_type": "stream",
          "name": "stdout",
          "text": [
            "12 15 14 \n"
          ]
        }
      ]
    },
    {
      "cell_type": "code",
      "source": [
        "#Answer of 4\n",
        "class Node:\n",
        "    def __init__(self, val):\n",
        "        self.val = val\n",
        "        self.next = None\n",
        "\n",
        "def create_circular_list(values):\n",
        "    head = Node(values[0])\n",
        "    cur = head\n",
        "    for val in values[1:]:\n",
        "        new_node = Node(val)\n",
        "        cur.next = new_node\n",
        "        cur = new_node\n",
        "    cur.next = head  # make it circular\n",
        "    return head\n",
        "\n",
        "def split_CLL(head, n):\n",
        "    cur = head\n",
        "    count = 1\n",
        "    while count < n:\n",
        "        cur = cur.next\n",
        "        count += 1\n",
        "    first_tail = cur   # tail of first list\n",
        "    second_head = cur.next   # head of second list\n",
        "    cur = second_head\n",
        "    while cur.next != head:\n",
        "        cur = cur.next\n",
        "    second_tail = cur   # tail of second list\n",
        "    first_tail.next = head  # connect tail of first list to head\n",
        "    second_tail.next = second_head  # make second list circular\n",
        "    return head, second_head\n",
        "\n",
        "def print_circular_list(head):\n",
        "    if not head:\n",
        "        return\n",
        "    cur = head\n",
        "    while True:\n",
        "        print(cur.val, end='')\n",
        "        cur = cur.next\n",
        "        if cur == head:\n",
        "            break\n",
        "    print()\n",
        "\n",
        "# main program\n",
        "values = [2, 3, 4, 5, 6, 7, 8]\n",
        "cll = create_circular_list(values)\n",
        "cll1, cll2 = split_CLL(cll, 3)\n",
        "print_circular_list(cll1)\n",
        "print_circular_list(cll2)"
      ],
      "metadata": {
        "colab": {
          "base_uri": "https://localhost:8080/"
        },
        "id": "hTAt3v0njSMM",
        "outputId": "acbd4b6a-5e39-42bf-9b37-11cf01c1f3b1"
      },
      "execution_count": 6,
      "outputs": [
        {
          "output_type": "stream",
          "name": "stdout",
          "text": [
            "234\n",
            "5678\n"
          ]
        }
      ]
    },
    {
      "cell_type": "code",
      "source": [
        "#Answer of 5\n",
        "class Node:\n",
        "    def __init__(self, data):\n",
        "        self.data = data\n",
        "        self.next = None\n",
        "        self.prev = None\n",
        "\n",
        "class DoublyLinkedList:\n",
        "    def __init__(self):\n",
        "        self.head = None\n",
        "\n",
        "    def rotate_DLL(self, N):\n",
        "        if self.head == None:\n",
        "            return\n",
        "        current = self.head\n",
        "        count = 1\n",
        "        while count < N and current != None:\n",
        "            current = current.next\n",
        "            count += 1\n",
        "\n",
        "        last_node = current\n",
        "\n",
        "        while current.next != None:\n",
        "            current = current.next\n",
        "\n",
        "        current.next = self.head\n",
        "        (current.next).prev=current\n",
        "        \n",
        "        (last_node.prev).next=None\n",
        "        \n",
        "        last_node.prev=None\n",
        "        \n",
        "        self.head=last_node\n",
        "    \n",
        "    def print_list(self):\n",
        "      temp=self.head\n",
        "      while temp!=None:\n",
        "          print(temp.data,end=\" \")\n",
        "          temp=temp.next\n",
        "\n",
        "\n",
        "dll=DoublyLinkedList()\n",
        "dll.head=Node('c')\n",
        "second=Node('i')\n",
        "third=Node('v')\n",
        "fourth=Node('i')\n",
        "fifth=Node('c')\n",
        "\n",
        "dll.head.next=second; second.prev=dll.head;\n",
        "second.next=third; third.prev=second;\n",
        "third.next=fourth; fourth.prev=third;\n",
        "fourth.next=fifth; fifth.prev=fourth;\n",
        "\n",
        "print(\"Original List: \")\n",
        "dll.print_list()\n",
        "print(\"\\n\")\n",
        "dll.rotate_DLL(3)\n",
        "print(\"Rotated List: \")\n",
        "dll.print_list()"
      ],
      "metadata": {
        "colab": {
          "base_uri": "https://localhost:8080/"
        },
        "id": "Is255EMjjVNV",
        "outputId": "8e478cd5-8230-4400-f5b2-81f7b50948be"
      },
      "execution_count": 7,
      "outputs": [
        {
          "output_type": "stream",
          "name": "stdout",
          "text": [
            "Original List: \n",
            "c i v i c \n",
            "\n",
            "Rotated List: \n",
            "v i c c i "
          ]
        }
      ]
    },
    {
      "cell_type": "code",
      "source": [
        "#Answer of 6\n",
        "class Node:\n",
        "    def __init__(self, data):\n",
        "        self.data = data\n",
        "        self.next = None\n",
        "        self.prev = None\n",
        "        self.random = None\n",
        "\n",
        "def check_and_correct_random_pointer(head):\n",
        "    current_node = head\n",
        "    while current_node:\n",
        "        if not hasattr(current_node, 'random'):\n",
        "            current_node.random = None\n",
        "        current_node = current_node.next\n",
        "\n",
        "def print_random_pointers(head):\n",
        "    current_node = head\n",
        "    while current_node:\n",
        "        print(current_node.random)\n",
        "        current_node = current_node.next\n",
        "\n",
        "# Example usage:\n",
        "head = Node(1)\n",
        "second_node = Node(2)\n",
        "third_node = Node(3)\n",
        "\n",
        "head.next = second_node\n",
        "second_node.prev = head\n",
        "second_node.next = third_node\n",
        "third_node.prev = second_node\n",
        "\n",
        "check_and_correct_random_pointer(head)\n",
        "print_random_pointers(head) "
      ],
      "metadata": {
        "colab": {
          "base_uri": "https://localhost:8080/"
        },
        "id": "PTq3GwsCjhcv",
        "outputId": "5c19e142-386e-43be-fbab-f264c81fe94c"
      },
      "execution_count": 9,
      "outputs": [
        {
          "output_type": "stream",
          "name": "stdout",
          "text": [
            "None\n",
            "None\n",
            "None\n"
          ]
        }
      ]
    }
  ]
}